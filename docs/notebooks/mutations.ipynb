{
 "cells": [
  {
   "cell_type": "code",
   "execution_count": null,
   "metadata": {},
   "outputs": [],
   "source": [
    "%load_ext autoreload\n",
    "%autoreload 2"
   ]
  },
  {
   "cell_type": "code",
   "execution_count": null,
   "metadata": {},
   "outputs": [],
   "source": [
    "# TESTING\n",
    "from seqlike.Mutation import Mutation\n",
    "\n",
    "m = Mutation(\"^2F\")\n",
    "type(m)"
   ]
  },
  {
   "cell_type": "markdown",
   "metadata": {},
   "source": [
    "# Mutations\n",
    "\n",
    "How do we represent mutations computationally?\n",
    "In SeqLike, we use the family of `Mutation` objects (`Substitution`, `Deletion`, and `Insertion`) as primitives,\n",
    "as well as their `MutationSet` collection.\n",
    "Later on in the notebook, we will show the APIs built on top of these primitive objects\n",
    "that enable fluent sequence design workflows.\n",
    "\n",
    "First off, let's see a few examples in action to get a feel for how it is used."
   ]
  },
  {
   "cell_type": "markdown",
   "metadata": {},
   "source": [
    "Here's a seqlike object:"
   ]
  },
  {
   "cell_type": "code",
   "execution_count": null,
   "metadata": {},
   "outputs": [],
   "source": [
    "from seqlike.SeqLike import aaSeqLike\n",
    "from seqlike.Mutation import Mutation\n",
    "\n",
    "s1 = aaSeqLike(\"MKAILV\")\n"
   ]
  },
  {
   "cell_type": "markdown",
   "metadata": {},
   "source": [
    "And here's a `Substitution` object, created by a generic call to `Mutation`."
   ]
  },
  {
   "cell_type": "code",
   "execution_count": null,
   "metadata": {},
   "outputs": [],
   "source": [
    "sub1 = Mutation(\"3K\")\n",
    "sub1"
   ]
  },
  {
   "cell_type": "code",
   "execution_count": null,
   "metadata": {},
   "outputs": [],
   "source": [
    "type(sub1)"
   ]
  },
  {
   "cell_type": "markdown",
   "metadata": {},
   "source": [
    "They can be added together:"
   ]
  },
  {
   "cell_type": "code",
   "execution_count": null,
   "metadata": {},
   "outputs": [],
   "source": [
    "s1 + sub1"
   ]
  },
  {
   "cell_type": "markdown",
   "metadata": {},
   "source": [
    "For comparison:"
   ]
  },
  {
   "cell_type": "code",
   "execution_count": null,
   "metadata": {},
   "outputs": [],
   "source": [
    "s1"
   ]
  },
  {
   "cell_type": "markdown",
   "metadata": {},
   "source": [
    "Built-in validation of the WT sequence happens if the expected WT sequence is specified:"
   ]
  },
  {
   "cell_type": "code",
   "execution_count": null,
   "metadata": {},
   "outputs": [],
   "source": [
    "sub_with_wt = Mutation(\"K1R\")\n",
    "# s1 + sub_with_wt  # will raise an error."
   ]
  },
  {
   "cell_type": "code",
   "execution_count": null,
   "metadata": {},
   "outputs": [],
   "source": [
    "sub_with_wt = Mutation(\"K2R\")\n",
    "s1 + sub_with_wt  # will NOT raise an error."
   ]
  },
  {
   "cell_type": "markdown",
   "metadata": {},
   "source": [
    "Here's an Insertion object:"
   ]
  },
  {
   "cell_type": "code",
   "execution_count": null,
   "metadata": {},
   "outputs": [],
   "source": [
    "ins1 = Mutation(\"^4D\")\n",
    "type(ins1)\n"
   ]
  },
  {
   "cell_type": "markdown",
   "metadata": {},
   "source": [
    "It, too, can be added to a seqlike:"
   ]
  },
  {
   "cell_type": "code",
   "execution_count": null,
   "metadata": {},
   "outputs": [],
   "source": [
    "s1 + ins1"
   ]
  },
  {
   "cell_type": "markdown",
   "metadata": {},
   "source": [
    "Finally, a `Deletion` object:"
   ]
  },
  {
   "cell_type": "code",
   "execution_count": null,
   "metadata": {},
   "outputs": [],
   "source": [
    "del1 = Mutation(\"2-\")\n",
    "del1"
   ]
  },
  {
   "cell_type": "code",
   "execution_count": null,
   "metadata": {},
   "outputs": [],
   "source": [
    "type(del1)"
   ]
  },
  {
   "cell_type": "markdown",
   "metadata": {},
   "source": [
    "Deletions behave like a special case substitution:"
   ]
  },
  {
   "cell_type": "code",
   "execution_count": null,
   "metadata": {},
   "outputs": [],
   "source": [
    "s1 + del1"
   ]
  },
  {
   "cell_type": "markdown",
   "metadata": {},
   "source": [
    "Finally, if you really don't like the gap, you can always ungap the resulting SeqLike:"
   ]
  },
  {
   "cell_type": "code",
   "execution_count": null,
   "metadata": {},
   "outputs": [],
   "source": [
    "(s1 + del1).ungap()"
   ]
  },
  {
   "cell_type": "markdown",
   "metadata": {},
   "source": [
    "Just be aware that you lose the original reference length and coordinate system."
   ]
  },
  {
   "cell_type": "markdown",
   "metadata": {},
   "source": [
    "## Mutation Sets\n",
    "\n",
    "MutationSets allow for collections of one or more mutations to be housed together.\n",
    "For example, let's combine one of our substitutions and insertions together."
   ]
  },
  {
   "cell_type": "code",
   "execution_count": null,
   "metadata": {},
   "outputs": [],
   "source": [
    "sub1, ins1"
   ]
  },
  {
   "cell_type": "code",
   "execution_count": null,
   "metadata": {},
   "outputs": [],
   "source": [
    "from seqlike.MutationSet import MutationSet \n",
    "\n",
    "ms1 = MutationSet([sub1, ins1])\n",
    "ms1\n",
    "# ms3 = ms1 + ms2"
   ]
  },
  {
   "cell_type": "markdown",
   "metadata": {},
   "source": [
    "`MutationSet` objects have a special property that shows which positions are represented."
   ]
  },
  {
   "cell_type": "code",
   "execution_count": null,
   "metadata": {},
   "outputs": [],
   "source": [
    "ms1.positions"
   ]
  },
  {
   "cell_type": "markdown",
   "metadata": {},
   "source": [
    "We can add a MutationSet to a SeqLike object."
   ]
  },
  {
   "cell_type": "code",
   "execution_count": null,
   "metadata": {},
   "outputs": [],
   "source": [
    "s1 + ms1"
   ]
  },
  {
   "cell_type": "markdown",
   "metadata": {},
   "source": [
    "The operations are don't modify internal state, \n",
    "so re-running them again guarantees identical results:"
   ]
  },
  {
   "cell_type": "code",
   "execution_count": null,
   "metadata": {},
   "outputs": [],
   "source": [
    "s1 + ms1"
   ]
  },
  {
   "cell_type": "code",
   "execution_count": null,
   "metadata": {},
   "outputs": [],
   "source": [
    "s1 + ms1"
   ]
  },
  {
   "cell_type": "markdown",
   "metadata": {},
   "source": [
    "Mutations in a MutationSet are applied from left to right.\n",
    "What happens, though, if an Insertion (which changes the indexing),\n",
    "is added before a Substitution (which doesn't)?"
   ]
  },
  {
   "cell_type": "code",
   "execution_count": null,
   "metadata": {},
   "outputs": [],
   "source": [
    "sub1"
   ]
  },
  {
   "cell_type": "code",
   "execution_count": null,
   "metadata": {},
   "outputs": [],
   "source": [
    "ms1_swapped = MutationSet([ins1, sub1])\n",
    "ms1_swapped\n",
    "s1 + ms1_swapped"
   ]
  },
  {
   "cell_type": "markdown",
   "metadata": {},
   "source": [
    "Within a MutationSet, we preserve indexing w.r.t. the original sequence,\n",
    "and internally propagate insertions of positions throughout the sequence.\n",
    "If you have multiple MutationSets, however, \n",
    "then indexing is preserved w.r.t. the previous SeqLike, from left to right:"
   ]
  },
  {
   "cell_type": "code",
   "execution_count": null,
   "metadata": {},
   "outputs": [],
   "source": [
    "# THIS:\n",
    "s1 + ms1 + ms1_swapped"
   ]
  },
  {
   "cell_type": "code",
   "execution_count": null,
   "metadata": {},
   "outputs": [],
   "source": [
    "# IS EQUIVALENT TO THIS:\n",
    "intermediate = s1 + ms1\n",
    "s2 = intermediate + ms1_swapped\n",
    "s2"
   ]
  },
  {
   "cell_type": "markdown",
   "metadata": {},
   "source": [
    "Be careful when adding two mutationsets together, because they simply get added up."
   ]
  },
  {
   "cell_type": "code",
   "execution_count": null,
   "metadata": {},
   "outputs": [],
   "source": [
    "combined_ms = MutationSet(mutations=\"2A;3C\".split(\";\")) + MutationSet(mutations=\"2D;4K\".split(\";\"))\n",
    "combined_ms"
   ]
  },
  {
   "cell_type": "code",
   "execution_count": null,
   "metadata": {},
   "outputs": [],
   "source": [
    "s1 + combined_ms"
   ]
  },
  {
   "cell_type": "markdown",
   "metadata": {},
   "source": [
    "Note here how only mutation 2D ended up being retained."
   ]
  },
  {
   "cell_type": "markdown",
   "metadata": {},
   "source": [
    "## Magical Mutation Set string parsing\n",
    "\n",
    "It's really tedious to specify multiple mutations as specific objects,\n",
    "so we have a magical parser that allows us to parse mutation strings:"
   ]
  },
  {
   "cell_type": "code",
   "execution_count": null,
   "metadata": {},
   "outputs": [],
   "source": [
    "s1"
   ]
  },
  {
   "cell_type": "code",
   "execution_count": null,
   "metadata": {},
   "outputs": [],
   "source": [
    "mutations = \"^2A;^4D;5-\" # insertion, substitution, deletion\n",
    "ms2 = MutationSet(mutations=mutations.split(\";\"))\n",
    "\n",
    "# The rest of the mutations in the set are offset by the correct amount\n",
    "s1 + ms2"
   ]
  },
  {
   "cell_type": "code",
   "execution_count": null,
   "metadata": {},
   "outputs": [],
   "source": [
    "import pandas as pd \n",
    "\n",
    "series = pd.Series([\"2A;3C;4D\", \"2A;3C\"], name=\"mutations\")\n",
    "series.apply(lambda mutation_str: MutationSet(mutation_str.split(\";\"))).apply(lambda mutset: s1 + mutset)"
   ]
  },
  {
   "cell_type": "code",
   "execution_count": null,
   "metadata": {},
   "outputs": [],
   "source": [
    "# Get back ;-delimited string:\n",
    "str(ms1)"
   ]
  },
  {
   "cell_type": "code",
   "execution_count": null,
   "metadata": {},
   "outputs": [],
   "source": [
    "ms1.to_str()"
   ]
  },
  {
   "cell_type": "markdown",
   "metadata": {},
   "source": [
    "## Mutational Scanning"
   ]
  },
  {
   "cell_type": "markdown",
   "metadata": {},
   "source": [
    "Mutational scanning, such as an Alanine scan, looks like this:"
   ]
  },
  {
   "cell_type": "code",
   "execution_count": null,
   "metadata": {},
   "outputs": [],
   "source": [
    "from seqlike import SeqLike \n",
    "from typing import List \n",
    "\n",
    "def alanine_scan(s: SeqLike) -> List[SeqLike]:\n",
    "    mutants = []\n",
    "    for i in range(len(s)):\n",
    "        mutants.append(s + Substitution(f\"{i}A\"))\n",
    "    return mutants\n"
   ]
  },
  {
   "cell_type": "markdown",
   "metadata": {},
   "source": [
    "We've wrapped that functionality in the SeqLike class."
   ]
  },
  {
   "cell_type": "code",
   "execution_count": null,
   "metadata": {},
   "outputs": [],
   "source": [
    "s1.scan(\"A\")\n"
   ]
  },
  {
   "cell_type": "markdown",
   "metadata": {},
   "source": [
    "We can do arbitrary scans too:"
   ]
  },
  {
   "cell_type": "code",
   "execution_count": null,
   "metadata": {},
   "outputs": [],
   "source": [
    "s1.scan(\"W\")\n"
   ]
  },
  {
   "cell_type": "markdown",
   "metadata": {},
   "source": [
    "Finally, we can always back-mutate sequences into their original."
   ]
  },
  {
   "cell_type": "code",
   "execution_count": null,
   "metadata": {},
   "outputs": [],
   "source": [
    "# Do an Alanine Scan but ensure wanted mutations w.r.t. WT are preserved.\n",
    "s1.scan(\"A\").apply(lambda seq: seq + MutationSet(\"1M;6C\".split(\";\")))\n"
   ]
  },
  {
   "cell_type": "markdown",
   "metadata": {},
   "source": [
    "## Differencing SeqLikes\n",
    "\n",
    "The `__sub__` operator has been overloaded such that if we subtract one seqlike from another seqlike,\n",
    "we get back a mutation set w.r.t. the left seqlike that can be added back to the left seqlike to obtain the right seqlike."
   ]
  },
  {
   "cell_type": "markdown",
   "metadata": {},
   "source": [
    "For example, with a SeqLikes `s1`:"
   ]
  },
  {
   "cell_type": "code",
   "execution_count": null,
   "metadata": {},
   "outputs": [],
   "source": [
    "s1\n"
   ]
  },
  {
   "cell_type": "markdown",
   "metadata": {},
   "source": [
    "And a particular mutation:"
   ]
  },
  {
   "cell_type": "code",
   "execution_count": null,
   "metadata": {},
   "outputs": [],
   "source": [
    "sub1"
   ]
  },
  {
   "cell_type": "markdown",
   "metadata": {},
   "source": [
    "We can obtain the difference between `s1` and `s1 + ms1`:"
   ]
  },
  {
   "cell_type": "code",
   "execution_count": null,
   "metadata": {},
   "outputs": [],
   "source": [
    "diff1 = s1 - (s1 + sub1)\n",
    "diff1"
   ]
  },
  {
   "cell_type": "markdown",
   "metadata": {},
   "source": [
    "The resulting MutationSet is an _inferred_ set of mutations needed\n",
    "to reconstruct the sequence on the right side of the plus sign from the left side.\n",
    "It may not always be the same as the original mutation set.\n",
    "Numbering is always going to be with respect to an ungapped reference (left hand side) sequence."
   ]
  },
  {
   "cell_type": "code",
   "execution_count": null,
   "metadata": {},
   "outputs": [],
   "source": [
    "diff2 = (s1 + sub1) - s1\n",
    "diff2"
   ]
  },
  {
   "cell_type": "markdown",
   "metadata": {},
   "source": [
    "We can apply the mutation inferred mutation sets and verify that we get back the same mutated sequence:"
   ]
  },
  {
   "cell_type": "code",
   "execution_count": null,
   "metadata": {},
   "outputs": [],
   "source": [
    "s1 + sub1"
   ]
  },
  {
   "cell_type": "markdown",
   "metadata": {},
   "source": [
    "which can be compared to:"
   ]
  },
  {
   "cell_type": "code",
   "execution_count": null,
   "metadata": {},
   "outputs": [],
   "source": [
    "s1 + diff1"
   ]
  },
  {
   "cell_type": "markdown",
   "metadata": {},
   "source": [
    "We can verify equality of the two strings below:"
   ]
  },
  {
   "cell_type": "code",
   "execution_count": null,
   "metadata": {},
   "outputs": [],
   "source": [
    "(s1 + sub1).to_str() ==  (s1 + diff1).to_str()"
   ]
  },
  {
   "cell_type": "markdown",
   "metadata": {},
   "source": [
    "Let's try with a mutation set, one that is a bit more complicated. Firstly, here's the first mutation set we used:"
   ]
  },
  {
   "cell_type": "code",
   "execution_count": null,
   "metadata": {},
   "outputs": [],
   "source": [
    "ms1"
   ]
  },
  {
   "cell_type": "markdown",
   "metadata": {},
   "source": [
    "Let's check the diff of the two sequences:"
   ]
  },
  {
   "cell_type": "code",
   "execution_count": null,
   "metadata": {},
   "outputs": [],
   "source": [
    "diff1 = s1 - (s1 + ms1)\n",
    "diff1"
   ]
  },
  {
   "cell_type": "code",
   "execution_count": null,
   "metadata": {},
   "outputs": [],
   "source": [
    "s1 + ms1"
   ]
  },
  {
   "cell_type": "code",
   "execution_count": null,
   "metadata": {},
   "outputs": [],
   "source": [
    "s1 + diff1"
   ]
  },
  {
   "cell_type": "markdown",
   "metadata": {},
   "source": [
    "Likewise, we can check their equality:"
   ]
  },
  {
   "cell_type": "code",
   "execution_count": null,
   "metadata": {},
   "outputs": [],
   "source": [
    "(s1 + ms1).to_str() == (s1 + diff1).to_str()\n"
   ]
  },
  {
   "cell_type": "markdown",
   "metadata": {},
   "source": [
    "Let's try with a mutationset that is a bit more complicated."
   ]
  },
  {
   "cell_type": "code",
   "execution_count": null,
   "metadata": {},
   "outputs": [],
   "source": [
    "ms2"
   ]
  },
  {
   "cell_type": "code",
   "execution_count": null,
   "metadata": {},
   "outputs": [],
   "source": [
    "diff = s1 - (s1 + ms2)\n",
    "diff"
   ]
  },
  {
   "cell_type": "markdown",
   "metadata": {},
   "source": [
    "Equality is preserved when we _ungap_ the sequences."
   ]
  },
  {
   "cell_type": "code",
   "execution_count": null,
   "metadata": {},
   "outputs": [],
   "source": [
    "(s1 + diff).ungap().to_str() ==  (s1 + ms2).ungap().to_str()"
   ]
  },
  {
   "cell_type": "markdown",
   "metadata": {},
   "source": [
    "Finally, let's do a really complicated one with 3 substitutions:"
   ]
  },
  {
   "cell_type": "code",
   "execution_count": null,
   "metadata": {},
   "outputs": [],
   "source": [
    "ms3 = MutationSet(\"2A;3F;4Q\".split(\";\"))"
   ]
  },
  {
   "cell_type": "code",
   "execution_count": null,
   "metadata": {},
   "outputs": [],
   "source": [
    "diff = s1 - s1 + ms3\n",
    "diff"
   ]
  },
  {
   "cell_type": "markdown",
   "metadata": {},
   "source": [
    "As you can see, this is pretty trivial, not actually complicated ;)."
   ]
  },
  {
   "cell_type": "code",
   "execution_count": null,
   "metadata": {},
   "outputs": [],
   "source": [
    "(s1 + diff).ungap().to_str() == (s1 + ms3).ungap().to_str()"
   ]
  },
  {
   "cell_type": "markdown",
   "metadata": {},
   "source": [
    "## Prototype Replacement? Using difflib\n",
    "\n",
    "Below is an early prototype we built using the `difflib` built-in library in Python.\n",
    "As you can see, handling mutations with the desired semantics is difficult in the absence of a pairwise alignment,\n",
    "but doing so may actually be faster than calling out to MAFFT.\n",
    "We leave it below here in the interest of transparency\n",
    "and to possibly spark ideas on modifications that may make it work!"
   ]
  },
  {
   "cell_type": "code",
   "execution_count": null,
   "metadata": {},
   "outputs": [],
   "source": [
    "## PROTOTYPE\n",
    "\n",
    "import difflib\n",
    "\n",
    "diff_indels = []\n",
    "\n",
    "for i, d in enumerate(difflib.ndiff(s1.to_str(), (s1 + ms3).ungap().to_str())):\n",
    "    print(d)\n",
    "    if d[0] == \"-\":\n",
    "        diff_indels.append(Deletion(f\"{i + 1}-\"))\n",
    "    elif d[0] == \"+\":\n",
    "        diff_indels.append(Insertion(f\"^{i + 1}{d[-1]}\"))\n",
    "diff_indels"
   ]
  },
  {
   "cell_type": "code",
   "execution_count": null,
   "metadata": {},
   "outputs": [],
   "source": [
    "ms3"
   ]
  },
  {
   "cell_type": "code",
   "execution_count": null,
   "metadata": {},
   "outputs": [],
   "source": [
    "from copy import deepcopy \n",
    "\n",
    "def coalesce(diff_indels):\n",
    "    original_diff_indels = deepcopy(diff_indels)\n",
    "\n",
    "    coalesced_mutations = []\n",
    "    offset = 0\n",
    "    while original_diff_indels:\n",
    "        if len(original_diff_indels) == 1:\n",
    "            coalesced_mutations.append(original_diff_indels[0] - offset)\n",
    "            break \n",
    "        m1, m2 = original_diff_indels[0:2]\n",
    "        # A substitution is always represented in in ndiff as a Deletion followed by an Insertion right after.\n",
    "        if isinstance(m1, Deletion) and isinstance(m2, Insertion) and m1.position + 1 == m2.position:\n",
    "            coalesced_mutations.append(Substitution(f\"{m1.position}{m2.mutant_letter}\") - offset)\n",
    "            original_diff_indels.remove(m1)\n",
    "            original_diff_indels.remove(m2)\n",
    "            offset += 1\n",
    "        else:\n",
    "            coalesced_mutations.append(m1 - offset)\n",
    "            original_diff_indels.remove(m1)\n",
    "            offset += 1\n",
    "    return MutationSet(coalesced_mutations)\n",
    "\n",
    "ms3_recon = coalesce(diff_indels)\n",
    "ms3_recon"
   ]
  },
  {
   "cell_type": "code",
   "execution_count": null,
   "metadata": {},
   "outputs": [],
   "source": [
    "\n",
    "s1 + ms3"
   ]
  },
  {
   "cell_type": "code",
   "execution_count": null,
   "metadata": {},
   "outputs": [],
   "source": [
    "s1 + ms3_recon"
   ]
  }
 ],
 "metadata": {
  "kernelspec": {
   "display_name": "Python 3 (ipykernel)",
   "language": "python",
   "name": "python3"
  },
  "language_info": {
   "codemirror_mode": {
    "name": "ipython",
    "version": 3
   },
   "file_extension": ".py",
   "mimetype": "text/x-python",
   "name": "python",
   "nbconvert_exporter": "python",
   "pygments_lexer": "ipython3",
   "version": "3.9.0"
  },
  "vscode": {
   "interpreter": {
    "hash": "d4d1e4263499bec80672ea0156c357c1ee493ec2b1c70f0acce89fc37c4a6abe"
   }
  }
 },
 "nbformat": 4,
 "nbformat_minor": 2
}
