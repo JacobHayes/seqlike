{
 "cells": [
  {
   "cell_type": "code",
   "execution_count": null,
   "metadata": {},
   "outputs": [],
   "source": [
    "%load_ext autoreload \n",
    "%autoreload 2"
   ]
  },
  {
   "cell_type": "markdown",
   "metadata": {},
   "source": [
    "# Mutations\n",
    "\n",
    "How do we represent mutations computationally?\n",
    "In SeqLike, we use the `Mutation` and `MutationSet` objects."
   ]
  },
  {
   "cell_type": "code",
   "execution_count": null,
   "metadata": {},
   "outputs": [],
   "source": [
    "from seqlike.SeqLike import aaSeqLike, _add\n",
    "from seqlike.Mutation import Mutation, Substitution, Deletion, Insertion\n",
    "\n",
    "s1 = aaSeqLike(\"MKAILV\")\n",
    "s2 = aaSeqLike(\"MKVILV\")\n",
    "\n",
    "sub1 = Substitution(position=3, mutant_letter=\"D\")\n",
    "sub2 = Substitution(position=5, mutant_letter=\"A\")\n",
    "sub3 = Substitution(position=15, mutant_letter=\"A\")\n",
    "\n",
    "ins1 = Insertion(position=3, mutant_letter=\"D\")\n",
    "\n",
    "del1 = Deletion(position=3)\n",
    "del2 = Deletion(position=5)\n",
    "\n",
    "s1 + sub1\n",
    "s1 + sub2\n",
    "\n",
    "s1 + ins1\n",
    "\n",
    "del2"
   ]
  },
  {
   "cell_type": "code",
   "execution_count": null,
   "metadata": {},
   "outputs": [],
   "source": [
    "s1 + del2"
   ]
  },
  {
   "cell_type": "markdown",
   "metadata": {},
   "source": [
    "## Magical String Parsing\n",
    "\n",
    "Mutation strings are much easier to type than always specifying `position=3, mutant_letter=\"K\"`.\n"
   ]
  },
  {
   "cell_type": "code",
   "execution_count": null,
   "metadata": {},
   "outputs": [],
   "source": [
    "Substitution(\"15R\")"
   ]
  },
  {
   "cell_type": "code",
   "execution_count": null,
   "metadata": {},
   "outputs": [],
   "source": [
    "Insertion(\"15R\")"
   ]
  },
  {
   "cell_type": "code",
   "execution_count": null,
   "metadata": {},
   "outputs": [],
   "source": [
    "# Deletions' mutation strings that don't have \"-\" at the end are handled magically:\n",
    "Deletion(\"15R\")"
   ]
  },
  {
   "cell_type": "code",
   "execution_count": null,
   "metadata": {},
   "outputs": [],
   "source": [
    "# And proper deletion strings work correctly:\n",
    "Deletion(\"15-\")"
   ]
  },
  {
   "cell_type": "markdown",
   "metadata": {},
   "source": [
    "## Mutation Sets\n"
   ]
  },
  {
   "cell_type": "code",
   "execution_count": null,
   "metadata": {},
   "outputs": [],
   "source": [
    "from seqlike.MutationSet import MutationSet \n",
    "\n",
    "ms1 = MutationSet(mutations=[sub1])\n",
    "ms2 = MutationSet(mutations=[sub2])\n",
    "\n",
    "ms3 = MutationSet(mutations=[del1, del2])\n",
    "\n",
    "# ms3 = ms1 + ms2"
   ]
  },
  {
   "cell_type": "code",
   "execution_count": null,
   "metadata": {},
   "outputs": [],
   "source": [
    "s1"
   ]
  },
  {
   "cell_type": "code",
   "execution_count": null,
   "metadata": {},
   "outputs": [],
   "source": [
    "s1 + ms3"
   ]
  },
  {
   "cell_type": "code",
   "execution_count": null,
   "metadata": {},
   "outputs": [],
   "source": [
    "s1 + ms3"
   ]
  },
  {
   "cell_type": "code",
   "execution_count": null,
   "metadata": {},
   "outputs": [],
   "source": [
    "insertion_set = MutationSet(mutations=[Insertion(\"3K\"), Insertion(\"5D\")])\n",
    "\n",
    "insertion_set + 1"
   ]
  },
  {
   "cell_type": "code",
   "execution_count": null,
   "metadata": {},
   "outputs": [],
   "source": [
    "s1 + insertion_set"
   ]
  },
  {
   "cell_type": "markdown",
   "metadata": {},
   "source": [
    "## Magical Mutation Set string parsing"
   ]
  },
  {
   "cell_type": "code",
   "execution_count": null,
   "metadata": {},
   "outputs": [],
   "source": [
    "# Insertion at position 0 and 4 in the original sequence:\n",
    "mutation_set = MutationSet(mutations=[\"^0A\", \"^3F\", \"^4D\"])\n",
    "\n",
    "# Notice how the original Python indexing is handled;\n",
    "# after introducing insertion at position 0,\n",
    "# the rest of the mutations in the set are offset by the correct amount\n",
    "s1 + mutation_set"
   ]
  },
  {
   "cell_type": "markdown",
   "metadata": {},
   "source": [
    "## Mutational Scanning"
   ]
  },
  {
   "cell_type": "code",
   "execution_count": null,
   "metadata": {},
   "outputs": [],
   "source": [
    "from seqlike import SeqLike \n",
    "from typing import List \n",
    "\n",
    "def alanine_scan(s: SeqLike) -> List[SeqLike]:\n",
    "    mutants = []\n",
    "    for i in range(len(s)):\n",
    "        mutants.append(s + Substitution(f\"{i}A\"))\n",
    "    return mutants\n",
    "\n"
   ]
  },
  {
   "cell_type": "markdown",
   "metadata": {},
   "source": [
    "We've wrapped that functionality in the SeqLike class."
   ]
  },
  {
   "cell_type": "code",
   "execution_count": null,
   "metadata": {},
   "outputs": [],
   "source": [
    "s1.scan(\"A\")\n"
   ]
  },
  {
   "cell_type": "code",
   "execution_count": null,
   "metadata": {},
   "outputs": [],
   "source": []
  }
 ],
 "metadata": {
  "kernelspec": {
   "display_name": "Python 3.9.0 ('base')",
   "language": "python",
   "name": "python3"
  },
  "language_info": {
   "codemirror_mode": {
    "name": "ipython",
    "version": 3
   },
   "file_extension": ".py",
   "mimetype": "text/x-python",
   "name": "python",
   "nbconvert_exporter": "python",
   "pygments_lexer": "ipython3",
   "version": "3.9.0"
  },
  "vscode": {
   "interpreter": {
    "hash": "d4d1e4263499bec80672ea0156c357c1ee493ec2b1c70f0acce89fc37c4a6abe"
   }
  }
 },
 "nbformat": 4,
 "nbformat_minor": 2
}
